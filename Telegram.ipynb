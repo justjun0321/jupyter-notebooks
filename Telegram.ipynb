{
 "cells": [
  {
   "cell_type": "code",
   "execution_count": 1,
   "id": "b3a54f8c",
   "metadata": {},
   "outputs": [],
   "source": [
    "import pandas as pd\n",
    "import matplotlib.pyplot as plt\n",
    "import seaborn as sns\n",
    "\n",
    "plt.rcParams['font.sans-serif'] = ['Microsoft JhengHei'] \n",
    "plt.rcParams['axes.unicode_minus'] = False"
   ]
  },
  {
   "cell_type": "code",
   "execution_count": 4,
   "id": "64d7d509",
   "metadata": {},
   "outputs": [],
   "source": [
    "data = pd.read_clipboard()"
   ]
  },
  {
   "cell_type": "code",
   "execution_count": 5,
   "id": "2cf071a8",
   "metadata": {},
   "outputs": [
    {
     "data": {
      "text/html": [
       "<div>\n",
       "<style scoped>\n",
       "    .dataframe tbody tr th:only-of-type {\n",
       "        vertical-align: middle;\n",
       "    }\n",
       "\n",
       "    .dataframe tbody tr th {\n",
       "        vertical-align: top;\n",
       "    }\n",
       "\n",
       "    .dataframe thead th {\n",
       "        text-align: right;\n",
       "    }\n",
       "</style>\n",
       "<table border=\"1\" class=\"dataframe\">\n",
       "  <thead>\n",
       "    <tr style=\"text-align: right;\">\n",
       "      <th></th>\n",
       "      <th>請問你是如何得知</th>\n",
       "      <th>加入群組期待可以收穫什麼</th>\n",
       "      <th>請問你的背景為何</th>\n",
       "      <th>對於目前群組討論還滿意嗎</th>\n",
       "      <th>有任何對於群組的建議嗎</th>\n",
       "    </tr>\n",
       "  </thead>\n",
       "  <tbody>\n",
       "    <tr>\n",
       "      <th>0</th>\n",
       "      <td>朋友分享給我的連結</td>\n",
       "      <td>拓展人脈</td>\n",
       "      <td>學生</td>\n",
       "      <td>2</td>\n",
       "      <td>NaN</td>\n",
       "    </tr>\n",
       "    <tr>\n",
       "      <th>1</th>\n",
       "      <td>看到 WeiChun (Marcus 張為淳) Chang 在LinkedIn的貼文</td>\n",
       "      <td>交流意見</td>\n",
       "      <td>資料科學家 - 機器學習</td>\n",
       "      <td>3</td>\n",
       "      <td>無</td>\n",
       "    </tr>\n",
       "    <tr>\n",
       "      <th>2</th>\n",
       "      <td>看到 WeiChun (Marcus 張為淳) Chang 在LinkedIn的貼文</td>\n",
       "      <td>單純聽聽</td>\n",
       "      <td>業務、商業開發</td>\n",
       "      <td>4</td>\n",
       "      <td>NaN</td>\n",
       "    </tr>\n",
       "  </tbody>\n",
       "</table>\n",
       "</div>"
      ],
      "text/plain": [
       "                                     請問你是如何得知 加入群組期待可以收穫什麼      請問你的背景為何  \\\n",
       "0                                   朋友分享給我的連結         拓展人脈            學生   \n",
       "1  看到 WeiChun (Marcus 張為淳) Chang 在LinkedIn的貼文         交流意見  資料科學家 - 機器學習   \n",
       "2  看到 WeiChun (Marcus 張為淳) Chang 在LinkedIn的貼文         單純聽聽       業務、商業開發   \n",
       "\n",
       "   對於目前群組討論還滿意嗎 有任何對於群組的建議嗎  \n",
       "0             2         NaN  \n",
       "1             3           無  \n",
       "2             4         NaN  "
      ]
     },
     "execution_count": 5,
     "metadata": {},
     "output_type": "execute_result"
    }
   ],
   "source": [
    "data[:3]"
   ]
  },
  {
   "cell_type": "code",
   "execution_count": 8,
   "id": "e3b46a0d",
   "metadata": {},
   "outputs": [
    {
     "data": {
      "text/plain": [
       "看到 WeiChun (Marcus 張為淳) Chang 在LinkedIn的貼文    125\n",
       "朋友分享給我的連結                                       7\n",
       "在政大時就有在看您的文章，在社團看到連結，進來學習                       1\n",
       "Name: 請問你是如何得知, dtype: int64"
      ]
     },
     "execution_count": 8,
     "metadata": {},
     "output_type": "execute_result"
    }
   ],
   "source": [
    "data['請問你是如何得知'].value_counts()"
   ]
  },
  {
   "cell_type": "code",
   "execution_count": 11,
   "id": "611186ed",
   "metadata": {},
   "outputs": [],
   "source": [
    "how = {'看到 WeiChun (Marcus 張為淳) Chang 在LinkedIn的貼文':'LinkedIn'\n",
    "       ,'朋友分享給我的連結':'Friend','在政大時就有在看您的文章，在社團看到連結，進來學習':'Friend'}\n",
    "\n",
    "data['請問你是如何得知'] = data['請問你是如何得知'].map(how)"
   ]
  },
  {
   "cell_type": "code",
   "execution_count": 14,
   "id": "ea7ab45e",
   "metadata": {},
   "outputs": [
    {
     "data": {
      "text/plain": [
       "([<matplotlib.patches.Wedge at 0x7f8315a53af0>,\n",
       "  <matplotlib.patches.Wedge at 0x7f8315936580>],\n",
       " [Text(-1.080418474473741, 0.20662991074826143, 'LinkedIn'),\n",
       "  Text(1.0804184696372185, -0.20662993603728122, 'Friend')],\n",
       " [Text(-0.5893191678947678, 0.11270722404450621, '94%'),\n",
       "  Text(0.5893191652566646, -0.11270723783851702, '6%')])"
      ]
     },
     "execution_count": 14,
     "metadata": {},
     "output_type": "execute_result"
    },
    {
     "data": {
      "image/png": "[encoded data removed]",
      "text/plain": [
       "<Figure size 432x288 with 1 Axes>"
      ]
     },
     "metadata": {},
     "output_type": "display_data"
    }
   ],
   "source": [
    "labels = ['LinkedIn','Friend']\n",
    "plt.pie(data['請問你是如何得知'].value_counts(), labels=labels, autopct='%1.0f%%')\n"
   ]
  },
  {
   "cell_type": "code",
   "execution_count": 16,
   "id": "021f8665",
   "metadata": {},
   "outputs": [],
   "source": [
    "data['請問你的背景為何'].value_counts().to_clipboard()"
   ]
  },
  {
   "cell_type": "code",
   "execution_count": 17,
   "id": "012afa99",
   "metadata": {},
   "outputs": [
    {
     "data": {
      "text/plain": [
       "(89, 5)"
      ]
     },
     "execution_count": 17,
     "metadata": {},
     "output_type": "execute_result"
    }
   ],
   "source": [
    "data[data['加入群組期待可以收穫什麼'].str.contains('拓展人脈')].shape"
   ]
  },
  {
   "cell_type": "code",
   "execution_count": 18,
   "id": "ce3b468c",
   "metadata": {},
   "outputs": [
    {
     "data": {
      "text/plain": [
       "(55, 5)"
      ]
     },
     "execution_count": 18,
     "metadata": {},
     "output_type": "execute_result"
    }
   ],
   "source": [
    "data[data['加入群組期待可以收穫什麼'].str.contains('交流意見')].shape"
   ]
  },
  {
   "cell_type": "code",
   "execution_count": 19,
   "id": "447191ad",
   "metadata": {},
   "outputs": [
    {
     "data": {
      "text/plain": [
       "(32, 5)"
      ]
     },
     "execution_count": 19,
     "metadata": {},
     "output_type": "execute_result"
    }
   ],
   "source": [
    "data[data['加入群組期待可以收穫什麼'].str.contains('單純聽聽')].shape"
   ]
  },
  {
   "cell_type": "code",
   "execution_count": 22,
   "id": "eab8f6d7",
   "metadata": {},
   "outputs": [
    {
     "data": {
      "text/plain": [
       "156"
      ]
     },
     "execution_count": 22,
     "metadata": {},
     "output_type": "execute_result"
    }
   ],
   "source": [
    "79+45+32"
   ]
  },
  {
   "cell_type": "code",
   "execution_count": 23,
   "id": "b3cb3d13",
   "metadata": {},
   "outputs": [],
   "source": [
    "import jieba"
   ]
  },
  {
   "cell_type": "code",
   "execution_count": 25,
   "id": "bacbba72",
   "metadata": {},
   "outputs": [
    {
     "name": "stderr",
     "output_type": "stream",
     "text": [
      "Building prefix dict from the default dictionary ...\n",
      "Dumping model to file cache /var/folders/wf/rr_jydhn0r31g2bhq_jwpc480000gs/T/jieba.cache\n",
      "Loading model cost 0.668 seconds.\n",
      "Prefix dict has been built successfully.\n"
     ]
    },
    {
     "name": "stdout",
     "output_type": "stream",
     "text": [
      "我/ 來/ 到/ 北京/ 清/ 華/ 大/ 學\n"
     ]
    }
   ],
   "source": [
    "seg_list = jieba.cut(\"我來到北京清華大學\", cut_all=True)\n",
    "print(\"/ \".join(seg_list))"
   ]
  },
  {
   "cell_type": "code",
   "execution_count": 34,
   "id": "65203a6d",
   "metadata": {},
   "outputs": [
    {
     "data": {
      "text/plain": [
       "(133, 5)"
      ]
     },
     "execution_count": 34,
     "metadata": {},
     "output_type": "execute_result"
    }
   ],
   "source": [
    "data.shape"
   ]
  },
  {
   "cell_type": "code",
   "execution_count": 29,
   "id": "5c60fd61",
   "metadata": {},
   "outputs": [
    {
     "data": {
      "text/plain": [
       "拓展人脈                                   15\n",
       "拓展人脈、交流意見                               7\n",
       "交流意見                                    7\n",
       "交流意見、拓展人脈、單純聽聽                          5\n",
       "對職涯有困惑，想看看其他人的想法，正在考慮轉職創投，想認識這個領域的人     1\n",
       "拓展人脈、單純聽聽                               1\n",
       "單純聽聽                                    1\n",
       "Name: 加入群組期待可以收穫什麼, dtype: int64"
      ]
     },
     "execution_count": 29,
     "metadata": {},
     "output_type": "execute_result"
    }
   ],
   "source": [
    "data[~data['有任何對於群組的建議嗎'].isnull()]['加入群組期待可以收穫什麼'].value_counts()"
   ]
  },
  {
   "cell_type": "code",
   "execution_count": 35,
   "id": "58751000",
   "metadata": {},
   "outputs": [
    {
     "data": {
      "text/plain": [
       "4    0.473684\n",
       "3    0.278195\n",
       "5    0.218045\n",
       "2    0.022556\n",
       "1    0.007519\n",
       "Name: 對於目前群組討論還滿意嗎, dtype: float64"
      ]
     },
     "execution_count": 35,
     "metadata": {},
     "output_type": "execute_result"
    }
   ],
   "source": [
    "data['對於目前群組討論還滿意嗎'].value_counts()/133"
   ]
  },
  {
   "cell_type": "code",
   "execution_count": 96,
   "id": "fc05ad99",
   "metadata": {},
   "outputs": [
    {
     "data": {
      "text/plain": [
       "4    0.517241\n",
       "5    0.275862\n",
       "3    0.172414\n",
       "2    0.034483\n",
       "Name: 對於目前群組討論還滿意嗎, dtype: float64"
      ]
     },
     "execution_count": 96,
     "metadata": {},
     "output_type": "execute_result"
    }
   ],
   "source": [
    "data[(~data['有任何對於群組的建議嗎'].str.contains('無',na=False))&\n",
    "    (~data['有任何對於群組的建議嗎'].str.contains('沒有',na=False))&\n",
    "    (~data['有任何對於群組的建議嗎'].isnull())]['對於目前群組討論還滿意嗎'].value_counts()/29"
   ]
  },
  {
   "cell_type": "code",
   "execution_count": 97,
   "id": "df08eec9",
   "metadata": {},
   "outputs": [
    {
     "data": {
      "text/plain": [
       "分析相關崗位        6\n",
       "軟體工程師         5\n",
       "人資、獵人頭        3\n",
       "專案經理          3\n",
       "學生            3\n",
       "數據科學家 - 分析    2\n",
       "採購、供應鏈相關      2\n",
       "投資相關          2\n",
       "業務、商業開發       2\n",
       "財務、會計相關       1\n",
       "Name: 請問你的背景為何, dtype: int64"
      ]
     },
     "execution_count": 97,
     "metadata": {},
     "output_type": "execute_result"
    }
   ],
   "source": [
    "data[(~data['有任何對於群組的建議嗎'].str.contains('無',na=False))&\n",
    "    (~data['有任何對於群組的建議嗎'].str.contains('沒有',na=False))&\n",
    "    (~data['有任何對於群組的建議嗎'].isnull())]['請問你的背景為何'].value_counts()"
   ]
  },
  {
   "cell_type": "code",
   "execution_count": 40,
   "id": "9a391f52",
   "metadata": {},
   "outputs": [
    {
     "data": {
      "text/plain": [
       "['無',\n",
       " '可以吸收多一點人資相關經驗',\n",
       " '期待有機會線上或線下的聚會',\n",
       " '目前大家的討論的內容很多樣，會有點難follow up\\n或許是分主題（自我介紹，職場分享，DS分享 etc.）會比較好看到\\n不過不知道telegram有沒有這樣的功能 集結同個主題的在一起\\n有點類似於fb 不過又會比fb更容易交流 ',\n",
       " '不清楚耶，目前好像有點散亂🤣但我也暫時想不到解決方法',\n",
       " '希望可以有更透明的個人信息知道大家的工作背景，有一些線上線下的networking event（有主題性的e.g. 科技業、金融業 etc）',\n",
       " '目前無',\n",
       " '是否能根據不同職位分成小的交流群，大的交流群訊息新增很快，內容也比較雜',\n",
       " '希望可以針對不同主題開設小聊天室，也期待有線下活動，謝謝群主',\n",
       " '可定期提出討論的主題，方便集中資訊',\n",
       " '延續一些議題的討論。有些議題被洗掉很可惜。可以用外部類似帖子的方式做一些統整紀錄',\n",
       " '很期待未來的發展，板大加油',\n",
       " '目前群組好在成員多樣性，彼此自介後，如何維持熱度，或頻率相近的人有更多交流，共好利它。',\n",
       " '希望有個依照產業 職業分類的表單，可以很快找到需要的人脈，大家互相幫忙成長',\n",
       " '覺得無法搜尋討論過的議題有點問題，但是這個問題也不應該由群主處理，因為你創立這個群組，讓大家可以互相交流已經非常棒了，感謝你',\n",
       " '感謝創群，人才資源很多！如果可以分主題小群更好，資訊更分流清楚，非常感謝！',\n",
       " '現在的討論發散，建議讓大家以分組的形式進行交流，是否可以從大家有興趣的題目開始',\n",
       " '謝謝創群噢，很多元很有趣',\n",
       " '目前還沒有！覺得這個群組很屌，各方人馬都在裡面。自己最近很積極在尋找出國工作的機會，希望能在裡頭找到契機。\\n謝謝學長建立這個群組🙏🙏',\n",
       " '可以有分類的討論資訊',\n",
       " '或許可以在LinkedIn 或其他可以方便分類討論的社群再開設一個群組方便交流 😊',\n",
       " '對於碩班的學生來說，能透過群組認識到各位業界的前輩真的是一個很特別的管道！感謝您',\n",
       " '期待能進行panel discussion ',\n",
       " '目前沒有',\n",
       " '如何能更有效分群討論，不然很容易被洗掉討論串～',\n",
       " '初來乍到，未來若有想法一定馬上提出！',\n",
       " '暫時先自由發揮吧',\n",
       " '謝謝有這個機會可以加入群組',\n",
       " '謝謝為淳的建群組想法👍👍',\n",
       " '好雜亂 但可能是因為是初期的關係',\n",
       " '討論主題跳動式、發散式發展。有沒有可能透過Telegram 設定或人工處理，將主題鎖定(類似目錄)，以便主題式分享或發問或閱讀。( 但不確定在Telegram 上這樣操作是否容易)',\n",
       " '可能要多主動有人丟話題出來',\n",
       " '加油 就過去經驗 這種群組很不好討論東西',\n",
       " '棒棒',\n",
       " '好像沒有',\n",
       " '比較擔心大家背景太豐富不過討論串只是一個 thread 會比較混亂或是被大多數人的背景所稀釋',\n",
       " '建立自我介紹點名規則']"
      ]
     },
     "execution_count": 40,
     "metadata": {},
     "output_type": "execute_result"
    }
   ],
   "source": [
    "data[~data['有任何對於群組的建議嗎'].isnull()]['有任何對於群組的建議嗎'].tolist()"
   ]
  },
  {
   "cell_type": "code",
   "execution_count": 41,
   "id": "80bcc0b9",
   "metadata": {},
   "outputs": [],
   "source": [
    "text_list = ' '.join(data[~data['有任何對於群組的建議嗎'].isnull()]['有任何對於群組的建議嗎'].tolist())"
   ]
  },
  {
   "cell_type": "code",
   "execution_count": 89,
   "id": "b6f73a45",
   "metadata": {},
   "outputs": [],
   "source": [
    "#seg_list = jieba.cut(text_list, cut_all=True)\n",
    "#seg_list = jieba.cut(text_list, cut_all=True)\n",
    "seg_list = jieba.cut_for_search(text_list)"
   ]
  },
  {
   "cell_type": "code",
   "execution_count": 83,
   "id": "b724f44e",
   "metadata": {},
   "outputs": [
    {
     "name": "stdout",
     "output_type": "stream",
     "text": [
      "無/  / 可以/ 吸收/ 多一點/ 人資/ 相關/ 經驗/  / 期待/ 有/ 機會線/ 上/ 或線/ 下/ 的/ 聚會/  / 目前/ 大家/ 的/ 討論/ 的/ 內容/ 很多/ 樣/ ，/ 會/ 有點/ 難/ follow/  / up/ \n",
      "/ 或許/ 是/ 分主題/ （/ 自我/ 介紹/ ，/ 職場/ 分享/ ，/ DS/ 分享/  / etc/ ./ ）/ 會/ 比/ 較/ 好/ 看到/ \n",
      "/ 不過/ 不/ 知道/ telegram/ 有/ 沒/ 有/ 這樣/ 的/ 功能/  / 集結/ 同個/ 主題/ 的/ 在/ 一起/ \n",
      "/ 有點/ 類似/ 於/ fb/  / 不過/ 又/ 會/ 比/ fb/ 更/ 容易/ 交流/  /  / 不/ 清楚/ 耶/ ，/ 目前/ 好像/ 有點/ 散亂/ 🤣/ 但/ 我/ 也/ 暫時/ 不到/ 想不到/ 解決/ 方法/  / 希望/ 可以/ 有/ 更/ 透明/ 的/ 個/ 人/ 信息/ 知道/ 大家/ 的/ 工作/ 背景/ ，/ 有/ 一些/ 線/ 上線/ 下/ 的/ networking/  / event/ （/ 有主題/ 性/ 的/ e/ ./ g/ ./  / 科技/ 業/ 、/ 金融/ 業/  / etc/ ）/  / 目前/ 無/  / 是否/ 能/ 根據/ 不同/ 職位/ 分成/ 小/ 的/ 交流/ 群/ ，/ 大/ 的/ 交流/ 群訊息/ 新增/ 很快/ ，/ 內容/ 也/ 比/ 較雜/  / 希望/ 可以/ 針對/ 不同/ 主題/ 開設/ 小/ 聊天/ 聊天室/ ，/ 也/ 期待/ 有線/ 下/ 活動/ ，/ 謝謝/ 群主/  / 可/ 定期/ 提出/ 討論/ 的/ 主題/ ，/ 方便/ 集中/ 資訊/  / 延續/ 一些/ 議題/ 的/ 討論/ 。/ 有些/ 議題/ 被/ 洗掉/ 很/ 可惜/ 。/ 可以/ 用/ 外部/ 類似/ 帖子/ 的/ 方式/ 做/ 一些/ 統整/ 紀錄/  / 很/ 期待/ 未來/ 的/ 發展/ ，/ 板大/ 加油/  / 目前/ 群組/ 好/ 在/ 成員多樣/ 性/ ，/ 彼此/ 自介/ 後/ ，/ 如何/ 維持/ 熱度/ ，/ 或/ 頻率/ 相近/ 的/ 人/ 有/ 更/ 多/ 交流/ ，/ 共好利/ 它/ 。/  / 希望/ 有個/ 依照/ 產業/  / 職業/ 分類/ 的/ 表單/ ，/ 可以/ 很快/ 找到/ 需要/ 的/ 人脈/ ，/ 大家/ 互相/ 幫忙/ 成長/  / 覺得/ 無法/ 搜尋討/ 論過/ 的/ 議題/ 有點/ 問題/ ，/ 但是/ 這個/ 問題/ 也/ 不應/ 該/ 由/ 群主/ 處理/ ，/ 因為/ 你/ 創立/ 這個/ 群組/ ，/ 讓/ 大家/ 可以/ 互相/ 交流/ 已經/ 非常/ 棒/ 了/ ，/ 感謝/ 你/  / 感謝/ 創群/ ，/ 人才/ 資源/ 很多/ ！/ 如果/ 可以/ 分主題/ 小群/ 更好/ ，/ 資訊/ 更/ 分流/ 清楚/ ，/ 非常/ 感謝/ ！/  / 現在/ 的/ 討論/ 發散/ ，/ 建議/ 讓/ 大家/ 以分組/ 的/ 形式/ 進行/ 交流/ ，/ 是否/ 可以/ 從/ 大家/ 有興趣/ 的/ 題目/ 開始/  / 謝謝/ 創群/ 噢/ ，/ 很多/ 元/ 很/ 有趣/  / 目前/ 還沒有/ ！/ 覺得/ 這個/ 群組/ 很/ 屌/ ，/ 各方/ 人馬/ 都/ 在/ 裡面/ 。/ 自己/ 最近/ 很積極/ 在/ 尋/ 找出/ 國/ 工作/ 的/ 機會/ ，/ 希望/ 能/ 在/ 裡頭/ 找到/ 契機/ 。/ \n",
      "/ 謝謝/ 學長/ 建立/ 這個/ 群組/ 🙏/ 🙏/  / 可以/ 有/ 分類/ 的/ 討論/ 資訊/  / 或許/ 可以/ 在/ LinkedIn/  / 或/ 其他/ 可以/ 方便/ 分類/ 討論/ 的/ 社群/ 再/ 開設/ 一個/ 群組/ 方便/ 交流/  / 😊/  / 對/ 於/ 碩班/ 的/ 學生/ 來/ 說/ ，/ 能/ 透過/ 群組/ 認識/ 到/ 各位/ 業界/ 的/ 前輩/ 真的/ 是/ 一個/ 很/ 特別/ 的/ 管道/ ！/ 感謝/ 您/  / 期待/ 能/ 進行/ panel/  / discussion/  /  / 目前/ 沒有/  / 如何/ 能/ 更/ 有效/ 分群/ 討論/ ，/ 不然/ 很/ 容易/ 被/ 洗掉/ 討論/ 串/ ～/  / 初來/ 乍/ 到/ ，/ 未來/ 若/ 有/ 想法/ 一定/ 馬/ 上/ 提出/ ！/  / 暫時/ 先/ 自由/ 發揮/ 吧/  / 謝謝/ 有/ 這個/ 機會/ 可以/ 加入/ 群組/  / 謝謝/ 為淳/ 的/ 建群組/ 想法/ 👍/ 👍/  / 好/ 雜亂/  / 但/ 可能/ 是/ 因為/ 是/ 初期/ 的關/ 係/  / 討論/ 主題/ 跳動式/ 、/ 發散式/ 發展/ 。/ 有/ 沒/ 有/ 可能/ 透過/ Telegram/  / 設定/ 或/ 人工/ 處理/ ，/ 將主題/ 鎖定/ (/ 類似/ 目錄/ )/ ，/ 以便/ 主題/ 式/ 分享/ 或/ 發問/ 或/ 閱讀/ 。/ (/  / 但/ 不/ 確定/ 在/ Telegram/  / 上/ 這樣/ 操作/ 是否/ 容易/ )/  / 可能/ 要/ 多主動/ 有人/ 丟話題/ 出來/  / 加油/  / 就/ 過去/ 經驗/  / 這種/ 群組/ 很/ 不好/ 討論/ 東西/  / 棒棒/  / 好像/ 沒有/  / 比較/ 擔心/ 大家/ 背景/ 太豐富/ 不過/ 討論/ 串/ 只是/ 一個/  / thread/  / 會/ 比/ 較/ 混亂/ 或是/ 被/ 大多/ 數人/ 的/ 背景/ 所稀釋/  / 建立/ 自我/ 介紹/ 點名/ 規則\n"
     ]
    }
   ],
   "source": [
    "print(\"/ \".join(seg_list))"
   ]
  },
  {
   "cell_type": "code",
   "execution_count": 43,
   "id": "bfc47663",
   "metadata": {},
   "outputs": [],
   "source": [
    "from collections import Counter"
   ]
  },
  {
   "cell_type": "code",
   "execution_count": 90,
   "id": "89cdbcb6",
   "metadata": {},
   "outputs": [],
   "source": [
    "counts = Counter(seg_list)"
   ]
  },
  {
   "cell_type": "code",
   "execution_count": 91,
   "id": "4ee8b64d",
   "metadata": {},
   "outputs": [
    {
     "data": {
      "text/plain": [
       "[(' ', 57),\n",
       " ('，', 34),\n",
       " ('的', 30),\n",
       " ('可以', 12),\n",
       " ('有', 11),\n",
       " ('討論', 11),\n",
       " ('群組', 8),\n",
       " ('大家', 7),\n",
       " ('在', 7),\n",
       " ('交流', 7),\n",
       " ('。', 7),\n",
       " ('很', 7),\n",
       " ('目前', 6),\n",
       " ('主題', 5),\n",
       " ('更', 5),\n",
       " ('能', 5),\n",
       " ('謝謝', 5),\n",
       " ('或', 5),\n",
       " ('這個', 5),\n",
       " ('！', 5)]"
      ]
     },
     "execution_count": 91,
     "metadata": {},
     "output_type": "execute_result"
    }
   ],
   "source": [
    "counts.most_common(20)"
   ]
  },
  {
   "cell_type": "code",
   "execution_count": 98,
   "id": "a388d955",
   "metadata": {},
   "outputs": [
    {
     "data": {
      "text/html": [
       "<div>\n",
       "<style scoped>\n",
       "    .dataframe tbody tr th:only-of-type {\n",
       "        vertical-align: middle;\n",
       "    }\n",
       "\n",
       "    .dataframe tbody tr th {\n",
       "        vertical-align: top;\n",
       "    }\n",
       "\n",
       "    .dataframe thead th {\n",
       "        text-align: right;\n",
       "    }\n",
       "</style>\n",
       "<table border=\"1\" class=\"dataframe\">\n",
       "  <thead>\n",
       "    <tr style=\"text-align: right;\">\n",
       "      <th></th>\n",
       "      <th>請問你是如何得知</th>\n",
       "      <th>加入群組期待可以收穫什麼</th>\n",
       "      <th>請問你的背景為何</th>\n",
       "      <th>對於目前群組討論還滿意嗎</th>\n",
       "      <th>有任何對於群組的建議嗎</th>\n",
       "    </tr>\n",
       "  </thead>\n",
       "  <tbody>\n",
       "    <tr>\n",
       "      <th>14</th>\n",
       "      <td>LinkedIn</td>\n",
       "      <td>拓展人脈</td>\n",
       "      <td>分析相關崗位</td>\n",
       "      <td>4</td>\n",
       "      <td>期待有機會線上或線下的聚會</td>\n",
       "    </tr>\n",
       "    <tr>\n",
       "      <th>22</th>\n",
       "      <td>LinkedIn</td>\n",
       "      <td>拓展人脈</td>\n",
       "      <td>分析相關崗位</td>\n",
       "      <td>3</td>\n",
       "      <td>不清楚耶，目前好像有點散亂🤣但我也暫時想不到解決方法</td>\n",
       "    </tr>\n",
       "    <tr>\n",
       "      <th>37</th>\n",
       "      <td>LinkedIn</td>\n",
       "      <td>拓展人脈</td>\n",
       "      <td>軟體工程師</td>\n",
       "      <td>5</td>\n",
       "      <td>是否能根據不同職位分成小的交流群，大的交流群訊息新增很快，內容也比較雜</td>\n",
       "    </tr>\n",
       "    <tr>\n",
       "      <th>44</th>\n",
       "      <td>LinkedIn</td>\n",
       "      <td>交流意見</td>\n",
       "      <td>專案經理</td>\n",
       "      <td>5</td>\n",
       "      <td>可定期提出討論的主題，方便集中資訊</td>\n",
       "    </tr>\n",
       "    <tr>\n",
       "      <th>52</th>\n",
       "      <td>LinkedIn</td>\n",
       "      <td>交流意見</td>\n",
       "      <td>採購、供應鏈相關</td>\n",
       "      <td>5</td>\n",
       "      <td>很期待未來的發展，板大加油</td>\n",
       "    </tr>\n",
       "    <tr>\n",
       "      <th>56</th>\n",
       "      <td>LinkedIn</td>\n",
       "      <td>拓展人脈</td>\n",
       "      <td>軟體工程師</td>\n",
       "      <td>4</td>\n",
       "      <td>目前群組好在成員多樣性，彼此自介後，如何維持熱度，或頻率相近的人有更多交流，共好利它。</td>\n",
       "    </tr>\n",
       "    <tr>\n",
       "      <th>75</th>\n",
       "      <td>LinkedIn</td>\n",
       "      <td>單純聽聽</td>\n",
       "      <td>分析相關崗位</td>\n",
       "      <td>4</td>\n",
       "      <td>謝謝創群噢，很多元很有趣</td>\n",
       "    </tr>\n",
       "    <tr>\n",
       "      <th>81</th>\n",
       "      <td>LinkedIn</td>\n",
       "      <td>拓展人脈</td>\n",
       "      <td>學生</td>\n",
       "      <td>5</td>\n",
       "      <td>對於碩班的學生來說，能透過群組認識到各位業界的前輩真的是一個很特別的管道！感謝您</td>\n",
       "    </tr>\n",
       "    <tr>\n",
       "      <th>92</th>\n",
       "      <td>LinkedIn</td>\n",
       "      <td>拓展人脈</td>\n",
       "      <td>業務、商業開發</td>\n",
       "      <td>4</td>\n",
       "      <td>期待能進行panel discussion</td>\n",
       "    </tr>\n",
       "    <tr>\n",
       "      <th>98</th>\n",
       "      <td>LinkedIn</td>\n",
       "      <td>交流意見、拓展人脈、單純聽聽</td>\n",
       "      <td>人資、獵人頭</td>\n",
       "      <td>4</td>\n",
       "      <td>如何能更有效分群討論，不然很容易被洗掉討論串～</td>\n",
       "    </tr>\n",
       "    <tr>\n",
       "      <th>105</th>\n",
       "      <td>LinkedIn</td>\n",
       "      <td>拓展人脈、交流意見</td>\n",
       "      <td>投資相關</td>\n",
       "      <td>5</td>\n",
       "      <td>初來乍到，未來若有想法一定馬上提出！</td>\n",
       "    </tr>\n",
       "    <tr>\n",
       "      <th>106</th>\n",
       "      <td>LinkedIn</td>\n",
       "      <td>拓展人脈、交流意見</td>\n",
       "      <td>人資、獵人頭</td>\n",
       "      <td>4</td>\n",
       "      <td>暫時先自由發揮吧</td>\n",
       "    </tr>\n",
       "    <tr>\n",
       "      <th>114</th>\n",
       "      <td>LinkedIn</td>\n",
       "      <td>交流意見、拓展人脈、單純聽聽</td>\n",
       "      <td>專案經理</td>\n",
       "      <td>5</td>\n",
       "      <td>謝謝為淳的建群組想法👍👍</td>\n",
       "    </tr>\n",
       "    <tr>\n",
       "      <th>115</th>\n",
       "      <td>LinkedIn</td>\n",
       "      <td>拓展人脈、單純聽聽</td>\n",
       "      <td>軟體工程師</td>\n",
       "      <td>3</td>\n",
       "      <td>好雜亂 但可能是因為是初期的關係</td>\n",
       "    </tr>\n",
       "    <tr>\n",
       "      <th>120</th>\n",
       "      <td>LinkedIn</td>\n",
       "      <td>拓展人脈、交流意見</td>\n",
       "      <td>數據科學家 - 分析</td>\n",
       "      <td>3</td>\n",
       "      <td>可能要多主動有人丟話題出來</td>\n",
       "    </tr>\n",
       "    <tr>\n",
       "      <th>122</th>\n",
       "      <td>LinkedIn</td>\n",
       "      <td>交流意見、拓展人脈、單純聽聽</td>\n",
       "      <td>軟體工程師</td>\n",
       "      <td>4</td>\n",
       "      <td>加油 就過去經驗 這種群組很不好討論東西</td>\n",
       "    </tr>\n",
       "    <tr>\n",
       "      <th>124</th>\n",
       "      <td>Friend</td>\n",
       "      <td>拓展人脈、交流意見</td>\n",
       "      <td>數據科學家 - 分析</td>\n",
       "      <td>4</td>\n",
       "      <td>棒棒</td>\n",
       "    </tr>\n",
       "    <tr>\n",
       "      <th>130</th>\n",
       "      <td>LinkedIn</td>\n",
       "      <td>交流意見、拓展人脈、單純聽聽</td>\n",
       "      <td>軟體工程師</td>\n",
       "      <td>4</td>\n",
       "      <td>比較擔心大家背景太豐富不過討論串只是一個 thread 會比較混亂或是被大多數人的背景所稀釋</td>\n",
       "    </tr>\n",
       "    <tr>\n",
       "      <th>132</th>\n",
       "      <td>LinkedIn</td>\n",
       "      <td>拓展人脈、交流意見</td>\n",
       "      <td>學生</td>\n",
       "      <td>4</td>\n",
       "      <td>建立自我介紹點名規則</td>\n",
       "    </tr>\n",
       "  </tbody>\n",
       "</table>\n",
       "</div>"
      ],
      "text/plain": [
       "     請問你是如何得知    加入群組期待可以收穫什麼    請問你的背景為何  對於目前群組討論還滿意嗎  \\\n",
       "14   LinkedIn            拓展人脈      分析相關崗位             4   \n",
       "22   LinkedIn            拓展人脈      分析相關崗位             3   \n",
       "37   LinkedIn            拓展人脈       軟體工程師             5   \n",
       "44   LinkedIn            交流意見        專案經理             5   \n",
       "52   LinkedIn            交流意見    採購、供應鏈相關             5   \n",
       "56   LinkedIn            拓展人脈       軟體工程師             4   \n",
       "75   LinkedIn            單純聽聽      分析相關崗位             4   \n",
       "81   LinkedIn            拓展人脈          學生             5   \n",
       "92   LinkedIn            拓展人脈     業務、商業開發             4   \n",
       "98   LinkedIn  交流意見、拓展人脈、單純聽聽      人資、獵人頭             4   \n",
       "105  LinkedIn       拓展人脈、交流意見        投資相關             5   \n",
       "106  LinkedIn       拓展人脈、交流意見      人資、獵人頭             4   \n",
       "114  LinkedIn  交流意見、拓展人脈、單純聽聽        專案經理             5   \n",
       "115  LinkedIn       拓展人脈、單純聽聽       軟體工程師             3   \n",
       "120  LinkedIn       拓展人脈、交流意見  數據科學家 - 分析             3   \n",
       "122  LinkedIn  交流意見、拓展人脈、單純聽聽       軟體工程師             4   \n",
       "124    Friend       拓展人脈、交流意見  數據科學家 - 分析             4   \n",
       "130  LinkedIn  交流意見、拓展人脈、單純聽聽       軟體工程師             4   \n",
       "132  LinkedIn       拓展人脈、交流意見          學生             4   \n",
       "\n",
       "                                        有任何對於群組的建議嗎  \n",
       "14                                    期待有機會線上或線下的聚會  \n",
       "22                       不清楚耶，目前好像有點散亂🤣但我也暫時想不到解決方法  \n",
       "37              是否能根據不同職位分成小的交流群，大的交流群訊息新增很快，內容也比較雜  \n",
       "44                                可定期提出討論的主題，方便集中資訊  \n",
       "52                                    很期待未來的發展，板大加油  \n",
       "56      目前群組好在成員多樣性，彼此自介後，如何維持熱度，或頻率相近的人有更多交流，共好利它。  \n",
       "75                                     謝謝創群噢，很多元很有趣  \n",
       "81         對於碩班的學生來說，能透過群組認識到各位業界的前輩真的是一個很特別的管道！感謝您  \n",
       "92                           期待能進行panel discussion   \n",
       "98                          如何能更有效分群討論，不然很容易被洗掉討論串～  \n",
       "105                              初來乍到，未來若有想法一定馬上提出！  \n",
       "106                                        暫時先自由發揮吧  \n",
       "114                                    謝謝為淳的建群組想法👍👍  \n",
       "115                                好雜亂 但可能是因為是初期的關係  \n",
       "120                                   可能要多主動有人丟話題出來  \n",
       "122                            加油 就過去經驗 這種群組很不好討論東西  \n",
       "124                                              棒棒  \n",
       "130  比較擔心大家背景太豐富不過討論串只是一個 thread 會比較混亂或是被大多數人的背景所稀釋  \n",
       "132                                      建立自我介紹點名規則  "
      ]
     },
     "execution_count": 98,
     "metadata": {},
     "output_type": "execute_result"
    }
   ],
   "source": [
    "data[(~data['有任何對於群組的建議嗎'].str.contains('可以',na=False))&(~data['有任何對於群組的建議嗎'].isnull())\n",
    "    &(~data['有任何對於群組的建議嗎'].str.contains('無',na=False))\n",
    "    &(~data['有任何對於群組的建議嗎'].str.contains('沒有',na=False))]"
   ]
  },
  {
   "cell_type": "code",
   "execution_count": null,
   "id": "8f6d31d6",
   "metadata": {},
   "outputs": [],
   "source": []
  }
 ],
 "metadata": {
  "kernelspec": {
   "display_name": "Python 3",
   "language": "python",
   "name": "python3"
  },
  "language_info": {
   "codemirror_mode": {
    "name": "ipython",
    "version": 3
   },
   "file_extension": ".py",
   "mimetype": "text/x-python",
   "name": "python",
   "nbconvert_exporter": "python",
   "pygments_lexer": "ipython3",
   "version": "3.8.8"
  }
 },
 "nbformat": 4,
 "nbformat_minor": 5
}
